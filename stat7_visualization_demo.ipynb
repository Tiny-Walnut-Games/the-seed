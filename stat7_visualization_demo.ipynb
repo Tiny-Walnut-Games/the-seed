{
 "cells": [
  {
   "cell_type": "markdown",
   "metadata": {},
   "source": [
    "# 🎭 STAT7 7D Space Visualization\n",
    "\n",
    "This notebook demonstrates real-time visualization of STAT7 experiments using WebSocket streaming and Three.js rendering.\n",
    "\n",
    "## 🚀 Features\n",
    "\n",
    "- **Real-time Streaming**: Live bit-chain generation visualization\n",
    "- **GPU Accelerated**: Three.js WebGL rendering\n",
    "- **7D Projection**: Advanced dimensional reduction algorithms\n",
    "- **Interactive Controls**: Camera, filters, and animation settings\n",
    "- **Experiment Integration**: Direct visualization of STAT7 validation experiments"
   ]
  },
  {
   "cell_type": "markdown",
   "metadata": {},
   "source": [
    "## 📦 Setup and Dependencies"
   ]
  },
  {
   "cell_type": "code",
   "execution_count": null,
   "metadata": {},
   "outputs": [],
   "source": [
    "# Install required packages if not already installed\n",
    "!pip install websockets asyncio three\n",
    "\n",
    "# Import STAT7 visualization components\n",
    "import sys\n",
    "import os\n",
    "import asyncio\n",
    "from pathlib import Path\n",
    "\n",
    "# Add the seed engine to Python path\n",
    "seed_path = Path.cwd() / \"Packages\" / \"com.twg.the-seed\" / \"seed\" / \"engine\"\n",
    "if str(seed_path) not in sys.path:\n",
    "    sys.path.insert(0, str(seed_path))\n",
    "\n",
    "from stat7_visualization import (\n",
    "    display_in_jupyter, \n",
    "    visualize_experiment, \n",
    "    get_visualization_manager,\n",
    "    quick_start_visualization\n",
    ")\n",
    "\n",
    "print(\"✅ STAT7 Visualization components imported successfully!\")"
   ]
  },
  {
   "cell_type": "markdown",
   "metadata": {},
   "source": [
    "## 🌐 Start Visualization Server"
   ]
  },
  {
   "cell_type": "code",
   "execution_count": null,
   "metadata": {},
   "outputs": [],
   "source": [
    "# Start the WebSocket visualization server\n",
    "manager = quick_start_visualization()\n",
    "\n",
    "print(\"\\n📊 Server Status:\")\n",
    "print(f\"- WebSocket: ws://localhost:8765\")\n",
    "print(f\"- Server Running: {manager.is_running}\")\n",
    "print(f\"- Host: {manager.host}\")\n",
    "print(f\"- Port: {manager.port}\")"
   ]
  },
  {
   "cell_type": "markdown",
   "metadata": {},
   "source": [
    "## 🖼️ Display Visualization Widget"
   ]
  },
  {
   "cell_type": "code",
   "execution_count": null,
   "metadata": {},
   "outputs": [],
   "source": [
    "# Display the interactive visualization widget in this notebook\n",
    "display_in_jupyter(width=\"100%\", height=\"600px\")\n",
    "\n",
    "print(\"🎮 Visualization widget loaded above!\")\n",
    "print(\"💡 The widget will connect to the WebSocket server automatically.\")"
   ]
  },
  {
   "cell_type": "markdown",
   "metadata": {},
   "source": [
    "## 🧪 Run EXP-01: Address Uniqueness Test"
   ]
  },
  {
   "cell_type": "code",
   "execution_count": null,
   "metadata": {},
   "outputs": [],
   "source": [
    "# Visualize EXP-01 with real-time streaming\n",
    "print(\"🚀 Starting EXP-01 Address Uniqueness Visualization...\")\n",
    "print(\"📊 Watch the visualization widget above to see bit-chains being created!\")\n",
    "\n",
    "# Run the experiment with visualization\n",
    "results = await visualize_experiment(\n",
    "    \"EXP-01\", \n",
    "    sample_size=500,  # Number of bit-chains per iteration\n",
    "    iterations=3      # Number of iterations\n",
    ")\n",
    "\n",
    "print(f\"\\n✅ EXP-01 Complete!\")\n",
    "print(f\"- Success: {results['success']}\")\n",
    "print(f\"- Total Iterations: {len(results['results'])}\")\n",
    "print(f\"- Total Bit-chains: {sum(r['total_bitchains'] for r in results['results'])}\")"
   ]
  },
  {
   "cell_type": "markdown",
   "metadata": {},
   "source": [
    "## 🔄 Continuous Generation Demo"
   ]
  },
  {
   "cell_type": "code",
   "execution_count": null,
   "metadata": {},
   "outputs": [],
   "source": [
    "# Generate continuous bit-chains for visualization testing\n",
    "print(\"🔄 Starting continuous generation demo...\")\n",
    "print(\"📊 Watch the 7D space fill up with colorful bit-chains!\")\n",
    "\n",
    "results = await visualize_experiment(\n",
    "    \"continuous\",\n",
    "    duration_seconds=30,  # Run for 30 seconds\n",
    "    rate_per_second=15    # Generate 15 bit-chains per second\n",
    ")\n",
    "\n",
    "print(f\"\\n✅ Continuous generation complete!\")\n",
    "print(f\"- Duration: {results['duration_seconds']} seconds\")\n",
    "print(f\"- Rate: {results['rate_per_second']} bit-chains/second\")\n",
    "print(f\"- Total Generated: ~{results['duration_seconds'] * results['rate_per_second']} bit-chains\")"
   ]
  },
  {
   "cell_type": "markdown",
   "metadata": {},
   "source": [
    "## 📈 Analysis and Insights"
   ]
  },
  {
   "cell_type": "code",
   "execution_count": null,
   "metadata": {},
   "outputs": [],
   "source": [
    "# Analyze the visualization results\n",
    "print(\"📈 STAT7 Visualization Analysis:\")\n",
    "print()\n",
    "print(\"🎨 Realm Distribution:\")\n",
    "print(\"- Each color represents a different realm (data, narrative, system, etc.)\")\n",
    "print(\"- Watch how bit-chains distribute across the 7-dimensional space\")\n",
    "print()\n",
    "print(\"📐 7D Projection:\")\n",
    "print(\"- The visualization projects 7D coordinates to 3D space\")\n",
    "print(\"- Realm, lineage, adjacency, horizon, resonance, velocity, density\")\n",
    "print(\"- Each dimension contributes to the final 3D position\")\n",
    "print()\n",
    "print(\"🔍 Interactive Controls:\")\n",
    "print(\"- Mouse drag: Rotate camera\")\n",
    "print(\"- Mouse wheel: Zoom in/out\")\n",
    "print(\"- Realm filter: Show/hide specific realms\")\n",
    "print(\"- Animation speed: Control floating animation\")\n",
    "print(\"- Point size: Adjust visualization scale\")"
   ]
  },
  {
   "cell_type": "markdown",
   "metadata": {},
   "source": [
    "## 🎯 Custom Experiment Example"
   ]
  },
  {
   "cell_type": "code",
   "execution_count": null,
   "metadata": {},
   "outputs": [],
   "source": [
    "# Create custom bit-chains and visualize them\n",
    "from stat7_experiments import BitChain, Coordinates, DataClass\n",
    "from datetime import datetime, timezone\n",
    "import uuid\n",
    "\n",
    "# Generate custom bit-chains with specific characteristics\n",
    "custom_bitchains = []\n",
    "\n",
    "for i in range(50):\n",
    "    bitchain = BitChain(\n",
    "        id=str(uuid.uuid4()),\n",
    "        entity_type=\"concept\",\n",
    "        realm=\"data\" if i % 2 == 0 else \"narrative\",\n",
    "        coordinates=Coordinates(\n",
    "            realm=\"data\" if i % 2 == 0 else \"narrative\",\n",
    "            lineage=i + 1,\n",
    "            adjacency=[str(uuid.uuid4()) for _ in range(2)],\n",
    "            horizon=\"genesis\" if i < 25 else \"emergence\",\n",
    "            resonance=0.5 + (i % 10) * 0.1,\n",
    "            velocity=-0.5 + (i % 8) * 0.125,\n",
    "            density=0.2 + (i % 5) * 0.15\n",
    "        ),\n",
    "        created_at=datetime.now(timezone.utc).isoformat(),\n",
    "        state={\"custom_field\": f\"value_{i}\", \"index\": i},\n",
    "        data_classification=DataClass.PUBLIC\n",
    "    )\n",
    "    custom_bitchains.append(bitchain)\n",
    "\n",
    "# Visualize the custom bit-chains\n",
    "manager = get_visualization_manager()\n",
    "await manager.visualize_bitchain_batch(custom_bitchains, experiment_id=\"custom_demo\")\n",
    "\n",
    "print(f\"✅ Custom visualization complete!\")\n",
    "print(f\"- Generated {len(custom_bitchains)} custom bit-chains\")\n",
    "print(f\"- Realms: data, narrative\")\n",
    "print(f\"- Horizons: genesis, emergence\")"
   ]
  },
  {
   "cell_type": "markdown",
   "metadata": {},
   "source": [
    "## 🔧 Advanced Configuration"
   ]
  },
  {
   "cell_type": "code",
   "execution_count": null,
   "metadata": {},
   "outputs": [],
   "source": [
    "# Advanced visualization configuration\n",
    "print(\"🔧 Advanced Configuration Options:\")\n",
    "print()\n",
    "print(\"📡 WebSocket Server:\")\n",
    "print(f\"- Host: {manager.host}\")\n",
    "print(f\"- Port: {manager.port}\")\n",
    "print(f\"- Connected Clients: {len(manager.event_streamer.clients) if manager.event_streamer else 0}\")\n",
    "print()\n",
    "print(\"🎮 Visualization Settings:\")\n",
    "print(\"- Projection Modes: 7D→3D, 7D→2D, Realm Slice, Dimension Cross-Section\")\n",
    "print(\"- Animation: Floating, rotation, pulsing effects\")\n",
    "print(\"- Filters: Realm-based, entity-type-based\")\n",
    "print(\"- Performance: FPS monitoring, point count limits\")\n",
    "print()\n",
    "print(\"📊 Browser Compatibility:\")\n",
    "print(\"- Chrome/Edge: Full WebGL support\")\n",
    "print(\"- Firefox: Full WebGL support\")\n",
    "print(\"- Safari: WebGL support (may need enable in settings)\")\n",
    "print(\"- Mobile: Limited support (touch controls)\")"
   ]
  },
  {
   "cell_type": "markdown",
   "metadata": {},
   "source": [
    "## 🛑 Cleanup"
   ]
  },
  {
   "cell_type": "code",
   "execution_count": null,
   "metadata": {},
   "outputs": [],
   "source": [
    "# Stop the visualization server when done\n",
    "print(\"🛑 Stopping visualization server...\")\n",
    "\n",
    "if manager:\n",
    "    manager.stop_server()\n",
    "    print(\"✅ Server stopped successfully!\")\n",
    "else:\n",
    "    print(\"ℹ️ No active server to stop.\")\n",
    "\n",
    "print(\"\\n🎉 Thank you for exploring STAT7 7D Space Visualization!\")\n",
    "print(\"💡 You can restart the server anytime using quick_start_visualization()\")"
   ]
  }
 ],
 "metadata": {
  "kernelspec": {
   "display_name": "Python 3",
   "language": "python",
   "name": "python3"
  },
  "language_info": {
   "codemirror_mode": {
    "name": "ipython",
    "version": 3
   },
   "file_extension": ".py",
   "mimetype": "text/x-python",
   "name": "python",
   "nbconvert_exporter": "python",
   "pygments_lexer": "ipython3",
   "version": "3.8.0"
  }
 },
 "nbformat": 4,
 "nbformat_minor": 4
}
